{
 "cells": [
  {
   "cell_type": "markdown",
   "id": "62a48dce-c440-4d17-8062-a72f4f81b151",
   "metadata": {},
   "source": [
    "# Total Cases, Deaths and Recovery of/from COVID-19"
   ]
  },
  {
   "cell_type": "code",
   "execution_count": 1,
   "id": "a93c48ab-4c2f-478d-b3f6-e584e090cab0",
   "metadata": {},
   "outputs": [
    {
     "name": "stdout",
     "output_type": "stream",
     "text": [
      "\n",
      "Total cases of COVID-19: 828508482\n",
      "Total deaths from COVID-19: 43384903 (5.24%* of total cases)\n",
      "Total recoveries from COVID-19: 388408229 (46.88%* of total cases)\n",
      "\n"
     ]
    }
   ],
   "source": [
    "import pandas as pd\n",
    "import os\n",
    "\n",
    "\n",
    "# reading the csv file\n",
    "data = pd.read_csv('Data/covid_19_clean_complete.csv')\n",
    "\n",
    "# summing the columns\n",
    "cases = data['Confirmed'].sum()\n",
    "deaths = data['Deaths'].sum()\n",
    "recovered = data['Recovered'].sum()\n",
    "\n",
    "# percentage of recovery and fatalities\n",
    "perc_recover = (recovered / cases) * 100\n",
    "perc_fatal = (deaths / cases) * 100\n",
    "\n",
    "# printing the results\n",
    "print(f'\\nTotal cases of COVID-19: {cases}')\n",
    "print(f'Total deaths from COVID-19: {deaths} ({perc_fatal:.2f}%* of total cases)')\n",
    "print(f'Total recoveries from COVID-19: {recovered} ({perc_recover:.2f}%* of total cases)\\n')"
   ]
  },
  {
   "cell_type": "markdown",
   "id": "8a616beb-4268-4e12-93a8-5afd2ec73b98",
   "metadata": {},
   "source": [
    "# 5 Most Contaminated Countries"
   ]
  },
  {
   "cell_type": "code",
   "execution_count": 2,
   "id": "032fe08a-63f9-4047-bdb3-61b4279cb378",
   "metadata": {},
   "outputs": [
    {
     "name": "stdout",
     "output_type": "stream",
     "text": [
      "              Total Cases\n",
      "Countries                \n",
      "USA               5032179\n",
      "Brazil            2917562\n",
      "India             2025409\n",
      "Russia             871894\n",
      "South Africa       538184\n"
     ]
    }
   ],
   "source": [
    "# importing another .csv file\n",
    "data2 = pd.read_csv('Data/worldometer_data.csv')\n",
    "\n",
    "# creating lists\n",
    "cases = data2['TotalCases'].tolist()\n",
    "countries = data2['Country/Region'].tolist()\n",
    "\n",
    "# creating a dictionary\n",
    "dt = pd.DataFrame({\n",
    "    'Total Cases' : cases,\n",
    "    'Countries' : countries   \n",
    "})\n",
    "\n",
    "# grouping the columns\n",
    "group = dt.groupby('Countries')['Total Cases'].sum().reset_index().set_index('Countries')\n",
    "\n",
    "# printing the result\n",
    "print(group.sort_values('Total Cases', ascending = False).head(5))"
   ]
  },
  {
   "cell_type": "markdown",
   "id": "fec6f797-b00b-4785-84ed-1943ee838bc3",
   "metadata": {},
   "source": [
    "# 5 Countries With the Most Fatalities"
   ]
  },
  {
   "cell_type": "code",
   "execution_count": 3,
   "id": "f583e15f-a94d-4bb4-9bf9-6446fff983cf",
   "metadata": {},
   "outputs": [
    {
     "name": "stdout",
     "output_type": "stream",
     "text": [
      "           Total Deaths\n",
      "Countries              \n",
      "USA            162804.0\n",
      "Brazil          98644.0\n",
      "Mexico          50517.0\n",
      "UK              46413.0\n",
      "India           41638.0\n"
     ]
    }
   ],
   "source": [
    "# creating a list for fatalities and countries\n",
    "deaths2 = data2['TotalDeaths'].tolist()\n",
    "\n",
    "# creating a dictionary\n",
    "dt2 = pd.DataFrame({\n",
    "    'Total Deaths' : deaths2,\n",
    "    'Countries' : countries\n",
    "})\n",
    "\n",
    "# grouping the columns\n",
    "group2 = dt2.groupby('Countries')['Total Deaths'].sum().reset_index().set_index('Countries')\n",
    "\n",
    "# printing\n",
    "print(group2.sort_values('Total Deaths', ascending = False).head(5))"
   ]
  },
  {
   "cell_type": "markdown",
   "id": "14465e0d-4270-4579-9826-1b55b036f393",
   "metadata": {},
   "source": [
    "# Coutries With Most Infected per 1M"
   ]
  },
  {
   "cell_type": "code",
   "execution_count": 4,
   "id": "4cb860ec-2c66-4b21-af0a-943132e6aebd",
   "metadata": {},
   "outputs": [
    {
     "name": "stdout",
     "output_type": "stream",
     "text": [
      "               Rate of Infection per 1M\n",
      "Countries                              \n",
      "Qatar                           39922.0\n",
      "French Guiana                   27146.0\n",
      "Bahrain                         25130.0\n",
      "San Marino                      20596.0\n",
      "Chile                           19165.0\n",
      "Panama                          16527.0\n",
      "Kuwait                          16378.0\n",
      "Oman                            15769.0\n",
      "USA                             15194.0\n",
      "Vatican City                    14981.0\n"
     ]
    }
   ],
   "source": [
    "# list for total population\n",
    "population = data2['Population'].tolist()\n",
    "\n",
    "# creating a new list to get the rate of cases per 1M\n",
    "list_rates = [(a/b) * 1000000 for a, b in zip(cases, population)]\n",
    "\n",
    "# creating a dictionary for coutnries and the rate\n",
    "dt3 = pd.DataFrame({\n",
    "    'Countries' : countries,\n",
    "    'Rate of Infection per 1M' : list_rates\n",
    "})\n",
    "\n",
    "# printing the results including a round() funcion to give me the rounded numbers intead of decimal ones\n",
    "print(dt3.round().sort_values('Rate of Infection per 1M', ascending = False).head(10).set_index('Countries'))"
   ]
  },
  {
   "cell_type": "markdown",
   "id": "2bb2af1a-0498-405e-9e19-df3eab8e184b",
   "metadata": {},
   "source": [
    "# Countries With the Most Fatalities per 1M"
   ]
  },
  {
   "cell_type": "code",
   "execution_count": 11,
   "id": "0419760a-07ce-46df-82df-42f9b918df1d",
   "metadata": {},
   "outputs": [
    {
     "name": "stdout",
     "output_type": "stream",
     "text": [
      "            Rate of Fatalities per 1M\n",
      "Countries                            \n",
      "San Marino                     1238.0\n",
      "Belgium                         850.0\n",
      "UK                              683.0\n",
      "Andorra                         673.0\n",
      "Peru                            619.0\n",
      "Spain                           610.0\n",
      "Italy                           582.0\n",
      "Sweden                          571.0\n",
      "Chile                           517.0\n",
      "USA                             492.0\n"
     ]
    }
   ],
   "source": [
    "# creating a new list get the rate of deaths per 1M\n",
    "list_deaths = [(c/d) * 1000000 for c, d in zip(deaths2, population)]\n",
    "\n",
    "#creating a dataframe\n",
    "dt4 = pd.DataFrame({\n",
    "    'Countries' : countries,\n",
    "    'Rate of Fatalities per 1M' : list_deaths\n",
    "})\n",
    "\n",
    "#printing the results\n",
    "print(dt4.round().sort_values('Rate of Fatalities per 1M', ascending = False). head(10).set_index('Countries'))"
   ]
  },
  {
   "cell_type": "markdown",
   "id": "39a67c2f-1256-450f-8439-f5895484e8f2",
   "metadata": {},
   "source": [
    "# Data From Brazil"
   ]
  },
  {
   "cell_type": "code",
   "execution_count": 6,
   "id": "8e4c14c3-6abd-4e8f-af8a-e89d74cb9fe9",
   "metadata": {
    "tags": []
   },
   "outputs": [
    {
     "name": "stdout",
     "output_type": "stream",
     "text": [
      "  Country/Region   Population  TotalCases  TotalDeaths  TotalRecovered\n",
      "1         Brazil  212710692.0     2917562      98644.0       2047660.0\n",
      "\n",
      "Percentage of the population infected: 1.37%\n",
      "Percentage of fatalities: 3.38%\n",
      "Cases per million of population: 13716.0\n",
      "Deaths per million of population: 464.0\n"
     ]
    }
   ],
   "source": [
    "# getting the data for Brazil only\n",
    "brazil = data2[data2['Country/Region'].str.contains('Brazil')]\n",
    "\n",
    "# deleting unwanted columns\n",
    "brazil = brazil.drop(columns = ['Continent', 'NewRecovered', 'Tot Cases/1M pop', 'Deaths/1M pop', 'NewDeaths', 'NewCases', 'WHO Region', 'Tests/1M pop', 'TotalTests', 'ActiveCases', 'Serious,Critical'])\n",
    "\n",
    "# printing the results\n",
    "print(brazil)\n",
    "\n",
    "# storing the values in variables\n",
    "population_br = brazil['Population']\n",
    "cases_br = brazil['TotalCases']\n",
    "\n",
    "# calculating and printing the percentage of infected\n",
    "perc_cases_br = (cases_br / population_br) * 100\n",
    "print(f'\\nPercentage of the population infected: {perc_cases_br.values[0]:.2f}%') # using .values[0] to show only the wanted number. It stores the variable in a list and than shows the first one ([0]). Done that because the code was showing the number aproximation and the variable type (float64)\n",
    "\n",
    "# storing the total deaths from Brazil\n",
    "deaths_br = brazil['TotalDeaths']\n",
    "\n",
    "# calculating and printing the percentage of deaths\n",
    "perc_deaths_br = (deaths_br / cases_br) * 100\n",
    "print(f'Percentage of fatalities: {perc_deaths_br.values[0]:.2f}%')\n",
    "\n",
    "# Cases per million pop\n",
    "cases_perm_br = (cases_br / population_br) * 1000000\n",
    "print(f'Cases per million of population: {cases_perm_br.round().values[0]}')\n",
    "\n",
    "# deaths per million pop\n",
    "deaths_perm_br = (deaths_br / population_br) * 1000000\n",
    "print(f'Deaths per million of population: {deaths_perm_br.round().values[0]}')"
   ]
  },
  {
   "cell_type": "markdown",
   "id": "ed61e48a-d93e-4511-b02a-c36db47d68bd",
   "metadata": {},
   "source": [
    "# Graph of Brazil Daily Infections"
   ]
  },
  {
   "cell_type": "code",
   "execution_count": 8,
   "id": "25f70add-c8b1-4c62-a07a-fb1bac563651",
   "metadata": {},
   "outputs": [
    {
     "data": {
      "image/png": "[encoded data removed]",
      "text/plain": [
       "<Figure size 1500x500 with 1 Axes>"
      ]
     },
     "metadata": {},
     "output_type": "display_data"
    }
   ],
   "source": [
    "import matplotlib.pyplot as plt\n",
    "\n",
    "\n",
    "# geting Brazil information\n",
    "brazil_daily = data[data['Country/Region'].str.contains('Brazil')]\n",
    "\n",
    "# storing the cases in a list\n",
    "cases_list_br = brazil_daily['Confirmed'].tolist()\n",
    "\n",
    "# subtracting the values to find only the daily infections\n",
    "cases_list_br = [y - x for x, y in zip(cases_list_br, cases_list_br[1:])]\n",
    "\n",
    "# removing the last element of the 'Date' column so it does not interfere with the plot\n",
    "dates_br = brazil_daily['Date'].tolist()  #creating a list with the dates\n",
    "dates_br = dates_br[:-1] # removing the last element of the list\n",
    " \n",
    "plt.figure(figsize = (15,5))\n",
    "# creating a bar graph\n",
    "plt.bar(dates_br, cases_list_br, color = 'grey') #using the created list to plot the graph\n",
    "\n",
    "# setting the x axis labels\n",
    "plt.xticks([dates_br[0], dates_br[-1]], visible = True) \n",
    "\n",
    "# labelling the axes\n",
    "plt.xlabel('Date')\n",
    "plt.ylabel('N° of Cases')\n",
    "\n",
    "# graph title\n",
    "plt.title('Brazil Daily Infections Until July 2020')\n",
    "\n",
    "# showing the graph\n",
    "plt.show()"
   ]
  },
  {
   "cell_type": "code",
   "execution_count": null,
   "id": "31523742-ce70-4f9d-b8e4-a504208fc4d0",
   "metadata": {},
   "outputs": [],
   "source": []
  }
 ],
 "metadata": {
  "kernelspec": {
   "display_name": "Python 3 (ipykernel)",
   "language": "python",
   "name": "python3"
  },
  "language_info": {
   "codemirror_mode": {
    "name": "ipython",
    "version": 3
   },
   "file_extension": ".py",
   "mimetype": "text/x-python",
   "name": "python",
   "nbconvert_exporter": "python",
   "pygments_lexer": "ipython3",
   "version": "3.10.9"
  }
 },
 "nbformat": 4,
 "nbformat_minor": 5
}
