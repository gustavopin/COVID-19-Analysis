{
 "cells": [
  {
   "cell_type": "markdown",
   "id": "62a48dce-c440-4d17-8062-a72f4f81b151",
   "metadata": {},
   "source": [
    "# Total Cases, Deaths and Recovery of/from COVID-19"
   ]
  },
  {
   "cell_type": "code",
   "execution_count": 3,
   "id": "a93c48ab-4c2f-478d-b3f6-e584e090cab0",
   "metadata": {},
   "outputs": [
    {
     "name": "stdout",
     "output_type": "stream",
     "text": [
      "Total cases of COVID-19: 828508482\n",
      "Total deaths from COVID-19: 43384903\n",
      "Total recoveries from COVID-19: 388408229\n"
     ]
    }
   ],
   "source": [
    "import pandas as pd\n",
    "import os\n",
    "\n",
    "# reading the csv file\n",
    "data = pd.read_csv('Data/covid_19_clean_complete.csv')\n",
    "\n",
    "# summing the columns\n",
    "cases = data['Confirmed'].sum()\n",
    "deaths = data['Deaths'].sum()\n",
    "recovered = data['Recovered'].sum()\n",
    "\n",
    "# printing the results\n",
    "print(f'Total cases of COVID-19: {cases}')\n",
    "print(f'Total deaths from COVID-19: {deaths}')\n",
    "print(f'Total recoveries from COVID-19: {recovered}')\n"
   ]
  },
  {
   "cell_type": "markdown",
   "id": "8a616beb-4268-4e12-93a8-5afd2ec73b98",
   "metadata": {},
   "source": [
    "# 5 Countries Most Contaminated"
   ]
  },
  {
   "cell_type": "code",
   "execution_count": 26,
   "id": "032fe08a-63f9-4047-bdb3-61b4279cb378",
   "metadata": {},
   "outputs": [
    {
     "ename": "AttributeError",
     "evalue": "'SeriesGroupBy' object has no attribute 'sort_values'",
     "output_type": "error",
     "traceback": [
      "\u001b[1;31m---------------------------------------------------------------------------\u001b[0m",
      "\u001b[1;31mAttributeError\u001b[0m                            Traceback (most recent call last)",
      "Cell \u001b[1;32mIn[26], line 12\u001b[0m\n\u001b[0;32m      6\u001b[0m dt \u001b[38;5;241m=\u001b[39m pd\u001b[38;5;241m.\u001b[39mDataFrame({\n\u001b[0;32m      7\u001b[0m     \u001b[38;5;124m'\u001b[39m\u001b[38;5;124mCases\u001b[39m\u001b[38;5;124m'\u001b[39m : cases,\n\u001b[0;32m      8\u001b[0m     \u001b[38;5;124m'\u001b[39m\u001b[38;5;124mCountries\u001b[39m\u001b[38;5;124m'\u001b[39m : countries   \n\u001b[0;32m      9\u001b[0m })\n\u001b[0;32m     11\u001b[0m group \u001b[38;5;241m=\u001b[39m dt\u001b[38;5;241m.\u001b[39mgroupby(\u001b[38;5;124m'\u001b[39m\u001b[38;5;124mCases\u001b[39m\u001b[38;5;124m'\u001b[39m)[\u001b[38;5;124m'\u001b[39m\u001b[38;5;124mCountries\u001b[39m\u001b[38;5;124m'\u001b[39m]\n\u001b[1;32m---> 12\u001b[0m \u001b[38;5;28mprint\u001b[39m(\u001b[43mgroup\u001b[49m\u001b[38;5;241;43m.\u001b[39;49m\u001b[43msort_values\u001b[49m(\u001b[38;5;124m'\u001b[39m\u001b[38;5;124mCases\u001b[39m\u001b[38;5;124m'\u001b[39m, ascending \u001b[38;5;241m=\u001b[39m \u001b[38;5;28;01mFalse\u001b[39;00m))\n",
      "File \u001b[1;32m~\\miniconda3\\lib\\site-packages\\pandas\\core\\groupby\\groupby.py:987\u001b[0m, in \u001b[0;36mGroupBy.__getattr__\u001b[1;34m(self, attr)\u001b[0m\n\u001b[0;32m    984\u001b[0m \u001b[38;5;28;01mif\u001b[39;00m attr \u001b[38;5;129;01min\u001b[39;00m \u001b[38;5;28mself\u001b[39m\u001b[38;5;241m.\u001b[39mobj:\n\u001b[0;32m    985\u001b[0m     \u001b[38;5;28;01mreturn\u001b[39;00m \u001b[38;5;28mself\u001b[39m[attr]\n\u001b[1;32m--> 987\u001b[0m \u001b[38;5;28;01mraise\u001b[39;00m \u001b[38;5;167;01mAttributeError\u001b[39;00m(\n\u001b[0;32m    988\u001b[0m     \u001b[38;5;124mf\u001b[39m\u001b[38;5;124m\"\u001b[39m\u001b[38;5;124m'\u001b[39m\u001b[38;5;132;01m{\u001b[39;00m\u001b[38;5;28mtype\u001b[39m(\u001b[38;5;28mself\u001b[39m)\u001b[38;5;241m.\u001b[39m\u001b[38;5;18m__name__\u001b[39m\u001b[38;5;132;01m}\u001b[39;00m\u001b[38;5;124m'\u001b[39m\u001b[38;5;124m object has no attribute \u001b[39m\u001b[38;5;124m'\u001b[39m\u001b[38;5;132;01m{\u001b[39;00mattr\u001b[38;5;132;01m}\u001b[39;00m\u001b[38;5;124m'\u001b[39m\u001b[38;5;124m\"\u001b[39m\n\u001b[0;32m    989\u001b[0m )\n",
      "\u001b[1;31mAttributeError\u001b[0m: 'SeriesGroupBy' object has no attribute 'sort_values'"
     ]
    }
   ],
   "source": [
    "# creating lists\n",
    "cases = data['Confirmed'].tolist()\n",
    "countries = data['Country/Region'].tolist()\n",
    "\n",
    "# creating a dictionary\n",
    "dt = pd.DataFrame({\n",
    "    'Cases' : cases,\n",
    "    'Countries' : countries   \n",
    "})\n",
    "\n",
    "group = dt.groupby('Countries')['Countries']\n",
    "print(group.sort_values('Cases', ascending = False))\n"
   ]
  },
  {
   "cell_type": "code",
   "execution_count": null,
   "id": "6ddf9d3b-4b37-44b7-a793-2a7bb48772a4",
   "metadata": {},
   "outputs": [],
   "source": []
  }
 ],
 "metadata": {
  "kernelspec": {
   "display_name": "Python 3 (ipykernel)",
   "language": "python",
   "name": "python3"
  },
  "language_info": {
   "codemirror_mode": {
    "name": "ipython",
    "version": 3
   },
   "file_extension": ".py",
   "mimetype": "text/x-python",
   "name": "python",
   "nbconvert_exporter": "python",
   "pygments_lexer": "ipython3",
   "version": "3.10.9"
  }
 },
 "nbformat": 4,
 "nbformat_minor": 5
}
