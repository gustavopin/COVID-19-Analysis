{
 "cells": [
  {
   "cell_type": "markdown",
   "id": "62a48dce-c440-4d17-8062-a72f4f81b151",
   "metadata": {},
   "source": [
    "# Total Cases, Deaths and Recovery of/from COVID-19"
   ]
  },
  {
   "cell_type": "code",
   "execution_count": 3,
   "id": "a93c48ab-4c2f-478d-b3f6-e584e090cab0",
   "metadata": {},
   "outputs": [
    {
     "name": "stdout",
     "output_type": "stream",
     "text": [
      "Total cases of COVID-19: 828508482\n",
      "Total deaths from COVID-19: 43384903\n",
      "Total recoveries from COVID-19: 388408229\n"
     ]
    }
   ],
   "source": [
    "import pandas as pd\n",
    "import os\n",
    "\n",
    "\n",
    "# reading the csv file\n",
    "data = pd.read_csv('Data/covid_19_clean_complete.csv')\n",
    "\n",
    "# summing the columns\n",
    "cases = data['Confirmed'].sum()\n",
    "deaths = data['Deaths'].sum()\n",
    "recovered = data['Recovered'].sum()\n",
    "\n",
    "# printing the results\n",
    "print(f'Total cases of COVID-19: {cases}')\n",
    "print(f'Total deaths from COVID-19: {deaths}')\n",
    "print(f'Total recoveries from COVID-19: {recovered}')\n"
   ]
  },
  {
   "cell_type": "markdown",
   "id": "8a616beb-4268-4e12-93a8-5afd2ec73b98",
   "metadata": {},
   "source": [
    "# 5 Most Contaminated Countries in 2020"
   ]
  },
  {
   "cell_type": "code",
   "execution_count": 19,
   "id": "032fe08a-63f9-4047-bdb3-61b4279cb378",
   "metadata": {},
   "outputs": [
    {
     "name": "stdout",
     "output_type": "stream",
     "text": [
      "              Cases (in 2020)\n",
      "Countries                    \n",
      "USA                   5032179\n",
      "Brazil                2917562\n",
      "India                 2025409\n",
      "Russia                 871894\n",
      "South Africa           538184\n"
     ]
    }
   ],
   "source": [
    "# importing another .csv file\n",
    "data2 = pd.read_csv('Data/worldometer_data.csv')\n",
    "\n",
    "# creating lists\n",
    "cases = data2['TotalCases'].tolist()\n",
    "countries = data2['Country/Region'].tolist()\n",
    "\n",
    "# creating a dictionary\n",
    "dt = pd.DataFrame({\n",
    "    'Cases (in 2020)' : cases,\n",
    "    'Countries' : countries   \n",
    "})\n",
    "\n",
    "# grouping the columns\n",
    "group = dt.groupby('Countries')['Cases (in 2020)'].sum().reset_index().set_index('Countries')\n",
    "\n",
    "# printing the result\n",
    "print(group.sort_values('Cases (in 2020)', ascending = False).head(5))"
   ]
  },
  {
   "cell_type": "markdown",
   "id": "39a67c2f-1256-450f-8439-f5895484e8f2",
   "metadata": {},
   "source": [
    "# Data From Brazil (2020)"
   ]
  },
  {
   "cell_type": "code",
   "execution_count": 61,
   "id": "8e4c14c3-6abd-4e8f-af8a-e89d74cb9fe9",
   "metadata": {},
   "outputs": [
    {
     "name": "stdout",
     "output_type": "stream",
     "text": [
      "  Country/Region   Population  TotalCases  TotalDeaths  TotalRecovered\n",
      "1         Brazil  212710692.0     2917562      98644.0       2047660.0\n",
      "\n",
      "Percentage of the population infected: 1.372%\n",
      "Percentage of fatalities: 3.381%\n"
     ]
    }
   ],
   "source": [
    "# getting the data for Brazil only\n",
    "brazil = data2[data2['Country/Region'].str.contains('Brazil')]\n",
    "\n",
    "# deleting unwanted columns\n",
    "brazil = brazil.drop(columns = ['Continent', 'NewRecovered', 'Tot Cases/1M pop', 'Deaths/1M pop', 'NewDeaths', 'NewCases', 'WHO Region', 'Tests/1M pop', 'TotalTests', 'ActiveCases', 'Serious,Critical'])\n",
    "\n",
    "# printing the results\n",
    "print(brazil)\n",
    "\n",
    "# percentage of the population infected\n",
    "# storing the values in variables\n",
    "population_br = brazil['Population']\n",
    "cases_br = brazil['TotalCases']\n",
    "\n",
    "# calculating and printing the percentage of infected\n",
    "perc_cases_br = (cases_br / population_br) * 100\n",
    "print(f'\\nPercentage of the population infected: {perc_cases_br.values[0]:.3f}%') # using .values[0] to show only the wanted number. It stores the variable in a list and than shows the first one ([0]). Done that because the code was showing the number aproximation and the variable type (float64)\n",
    "\n",
    "# storing the total deaths from Brazil\n",
    "deaths_br = brazil['TotalDeaths']\n",
    "\n",
    "# calculating and printing the percentage of deaths\n",
    "perc_deaths_br = (deaths_br / cases_br) * 100\n",
    "print(f'Percentage of fatalities: {perc_deaths_br.values[0]:.3f}%')"
   ]
  },
  {
   "cell_type": "markdown",
   "id": "ed61e48a-d93e-4511-b02a-c36db47d68bd",
   "metadata": {},
   "source": [
    "# Graph of Brazil Daily Infections Until July 2020"
   ]
  },
  {
   "cell_type": "code",
   "execution_count": 89,
   "id": "25f70add-c8b1-4c62-a07a-fb1bac563651",
   "metadata": {},
   "outputs": [
    {
     "name": "stdout",
     "output_type": "stream",
     "text": [
      "[0, 0, 0, 0, 0, 0, 0, 0, 0, 0, 0, 0, 0, 0, 0, 0, 0, 0, 0, 0, 0, 0, 0, 0, 0, 0, 0, 0, 0, 0, 0, 0, 0, 0, 1, 0, 0, 1, 0, 0, 0, 2, 0, 9, 0, 7, 5, 6, 7, 14, 99, 0, 11, 38, 121, 51, 249, 172, 228, 525, 378, 323, 307, 431, 432, 487, 352, 323, 1138, 1119, 1208, 1012, 1304, 770, 1031, 1873, 2136, 1922, 1546, 1089, 1465, 1238, 1832, 3058, 2105, 3257, 2976, 1996, 2089, 2336, 2678, 4279, 4007, 5281, 3776, 4346, 5789, 6450, 7502, 5015, 4898, 4726, 6794, 6835, 11156, 9162, 11121, 9167, 6638, 6895, 8620, 11923, 13028, 17126, 13220, 7569, 14288, 16517, 19694, 18508, 20803, 16508, 15813, 11687, 16324, 20599, 26417, 26928, 33274, 16409, 11598, 28936, 28633, 30925, 30830, 27075, 18912, 15654, 32091, 32913, 30412, 25982, 21704, 17110, 20647, 34918, 32188, 22765, 54771, 34666, 15762, 23129, 39436, 42725, 39483, 46860, 38693, 30476, 24052, 33846, 46712, 48105, 42223, 37923, 26051, 20229, 45305, 44571, 42619, 45048, 39023, 24831, 20286, 41857, 39924, 45403, 34177, 28532, 23529, 20257, 41008, 67860, 59961, 55891, 51147, 24578, 23284]\n"
     ]
    },
    {
     "ename": "ValueError",
     "evalue": "shape mismatch: objects cannot be broadcast to a single shape.  Mismatch is between arg 0 with shape (188,) and arg 1 with shape (187,).",
     "output_type": "error",
     "traceback": [
      "\u001b[1;31m---------------------------------------------------------------------------\u001b[0m",
      "\u001b[1;31mValueError\u001b[0m                                Traceback (most recent call last)",
      "Cell \u001b[1;32mIn[89], line 14\u001b[0m\n\u001b[0;32m     12\u001b[0m \u001b[38;5;28mprint\u001b[39m(cases_list_br)\n\u001b[0;32m     13\u001b[0m \u001b[38;5;66;03m# creating a bar graph\u001b[39;00m\n\u001b[1;32m---> 14\u001b[0m \u001b[43mplt\u001b[49m\u001b[38;5;241;43m.\u001b[39;49m\u001b[43mbar\u001b[49m\u001b[43m(\u001b[49m\u001b[43mbrazil_daily\u001b[49m\u001b[43m[\u001b[49m\u001b[38;5;124;43m'\u001b[39;49m\u001b[38;5;124;43mDate\u001b[39;49m\u001b[38;5;124;43m'\u001b[39;49m\u001b[43m]\u001b[49m\u001b[43m,\u001b[49m\u001b[43m \u001b[49m\u001b[43mcases_list_br\u001b[49m\u001b[43m,\u001b[49m\u001b[43m \u001b[49m\u001b[43mcolor\u001b[49m\u001b[43m \u001b[49m\u001b[38;5;241;43m=\u001b[39;49m\u001b[43m \u001b[49m\u001b[38;5;124;43m'\u001b[39;49m\u001b[38;5;124;43mgrey\u001b[39;49m\u001b[38;5;124;43m'\u001b[39;49m\u001b[43m)\u001b[49m\n\u001b[0;32m     16\u001b[0m \u001b[38;5;66;03m# labelling the axes\u001b[39;00m\n\u001b[0;32m     17\u001b[0m plt\u001b[38;5;241m.\u001b[39mxlabel(\u001b[38;5;124m'\u001b[39m\u001b[38;5;124mDates\u001b[39m\u001b[38;5;124m'\u001b[39m)\n",
      "File \u001b[1;32m~\\miniconda3\\lib\\site-packages\\matplotlib\\pyplot.py:2439\u001b[0m, in \u001b[0;36mbar\u001b[1;34m(x, height, width, bottom, align, data, **kwargs)\u001b[0m\n\u001b[0;32m   2435\u001b[0m \u001b[38;5;129m@_copy_docstring_and_deprecators\u001b[39m(Axes\u001b[38;5;241m.\u001b[39mbar)\n\u001b[0;32m   2436\u001b[0m \u001b[38;5;28;01mdef\u001b[39;00m \u001b[38;5;21mbar\u001b[39m(\n\u001b[0;32m   2437\u001b[0m         x, height, width\u001b[38;5;241m=\u001b[39m\u001b[38;5;241m0.8\u001b[39m, bottom\u001b[38;5;241m=\u001b[39m\u001b[38;5;28;01mNone\u001b[39;00m, \u001b[38;5;241m*\u001b[39m, align\u001b[38;5;241m=\u001b[39m\u001b[38;5;124m'\u001b[39m\u001b[38;5;124mcenter\u001b[39m\u001b[38;5;124m'\u001b[39m,\n\u001b[0;32m   2438\u001b[0m         data\u001b[38;5;241m=\u001b[39m\u001b[38;5;28;01mNone\u001b[39;00m, \u001b[38;5;241m*\u001b[39m\u001b[38;5;241m*\u001b[39mkwargs):\n\u001b[1;32m-> 2439\u001b[0m     \u001b[38;5;28;01mreturn\u001b[39;00m gca()\u001b[38;5;241m.\u001b[39mbar(\n\u001b[0;32m   2440\u001b[0m         x, height, width\u001b[38;5;241m=\u001b[39mwidth, bottom\u001b[38;5;241m=\u001b[39mbottom, align\u001b[38;5;241m=\u001b[39malign,\n\u001b[0;32m   2441\u001b[0m         \u001b[38;5;241m*\u001b[39m\u001b[38;5;241m*\u001b[39m({\u001b[38;5;124m\"\u001b[39m\u001b[38;5;124mdata\u001b[39m\u001b[38;5;124m\"\u001b[39m: data} \u001b[38;5;28;01mif\u001b[39;00m data \u001b[38;5;129;01mis\u001b[39;00m \u001b[38;5;129;01mnot\u001b[39;00m \u001b[38;5;28;01mNone\u001b[39;00m \u001b[38;5;28;01melse\u001b[39;00m {}), \u001b[38;5;241m*\u001b[39m\u001b[38;5;241m*\u001b[39mkwargs)\n",
      "File \u001b[1;32m~\\miniconda3\\lib\\site-packages\\matplotlib\\__init__.py:1459\u001b[0m, in \u001b[0;36m_preprocess_data.<locals>.inner\u001b[1;34m(ax, data, *args, **kwargs)\u001b[0m\n\u001b[0;32m   1456\u001b[0m \u001b[38;5;129m@functools\u001b[39m\u001b[38;5;241m.\u001b[39mwraps(func)\n\u001b[0;32m   1457\u001b[0m \u001b[38;5;28;01mdef\u001b[39;00m \u001b[38;5;21minner\u001b[39m(ax, \u001b[38;5;241m*\u001b[39margs, data\u001b[38;5;241m=\u001b[39m\u001b[38;5;28;01mNone\u001b[39;00m, \u001b[38;5;241m*\u001b[39m\u001b[38;5;241m*\u001b[39mkwargs):\n\u001b[0;32m   1458\u001b[0m     \u001b[38;5;28;01mif\u001b[39;00m data \u001b[38;5;129;01mis\u001b[39;00m \u001b[38;5;28;01mNone\u001b[39;00m:\n\u001b[1;32m-> 1459\u001b[0m         \u001b[38;5;28;01mreturn\u001b[39;00m func(ax, \u001b[38;5;241m*\u001b[39m\u001b[38;5;28mmap\u001b[39m(sanitize_sequence, args), \u001b[38;5;241m*\u001b[39m\u001b[38;5;241m*\u001b[39mkwargs)\n\u001b[0;32m   1461\u001b[0m     bound \u001b[38;5;241m=\u001b[39m new_sig\u001b[38;5;241m.\u001b[39mbind(ax, \u001b[38;5;241m*\u001b[39margs, \u001b[38;5;241m*\u001b[39m\u001b[38;5;241m*\u001b[39mkwargs)\n\u001b[0;32m   1462\u001b[0m     auto_label \u001b[38;5;241m=\u001b[39m (bound\u001b[38;5;241m.\u001b[39marguments\u001b[38;5;241m.\u001b[39mget(label_namer)\n\u001b[0;32m   1463\u001b[0m                   \u001b[38;5;129;01mor\u001b[39;00m bound\u001b[38;5;241m.\u001b[39mkwargs\u001b[38;5;241m.\u001b[39mget(label_namer))\n",
      "File \u001b[1;32m~\\miniconda3\\lib\\site-packages\\matplotlib\\axes\\_axes.py:2417\u001b[0m, in \u001b[0;36mAxes.bar\u001b[1;34m(self, x, height, width, bottom, align, **kwargs)\u001b[0m\n\u001b[0;32m   2414\u001b[0m     \u001b[38;5;28;01mif\u001b[39;00m yerr \u001b[38;5;129;01mis\u001b[39;00m \u001b[38;5;129;01mnot\u001b[39;00m \u001b[38;5;28;01mNone\u001b[39;00m:\n\u001b[0;32m   2415\u001b[0m         yerr \u001b[38;5;241m=\u001b[39m \u001b[38;5;28mself\u001b[39m\u001b[38;5;241m.\u001b[39m_convert_dx(yerr, y0, y, \u001b[38;5;28mself\u001b[39m\u001b[38;5;241m.\u001b[39mconvert_yunits)\n\u001b[1;32m-> 2417\u001b[0m x, height, width, y, linewidth, hatch \u001b[38;5;241m=\u001b[39m \u001b[43mnp\u001b[49m\u001b[38;5;241;43m.\u001b[39;49m\u001b[43mbroadcast_arrays\u001b[49m\u001b[43m(\u001b[49m\n\u001b[0;32m   2418\u001b[0m \u001b[43m    \u001b[49m\u001b[38;5;66;43;03m# Make args iterable too.\u001b[39;49;00m\n\u001b[0;32m   2419\u001b[0m \u001b[43m    \u001b[49m\u001b[43mnp\u001b[49m\u001b[38;5;241;43m.\u001b[39;49m\u001b[43matleast_1d\u001b[49m\u001b[43m(\u001b[49m\u001b[43mx\u001b[49m\u001b[43m)\u001b[49m\u001b[43m,\u001b[49m\u001b[43m \u001b[49m\u001b[43mheight\u001b[49m\u001b[43m,\u001b[49m\u001b[43m \u001b[49m\u001b[43mwidth\u001b[49m\u001b[43m,\u001b[49m\u001b[43m \u001b[49m\u001b[43my\u001b[49m\u001b[43m,\u001b[49m\u001b[43m \u001b[49m\u001b[43mlinewidth\u001b[49m\u001b[43m,\u001b[49m\u001b[43m \u001b[49m\u001b[43mhatch\u001b[49m\u001b[43m)\u001b[49m\n\u001b[0;32m   2421\u001b[0m \u001b[38;5;66;03m# Now that units have been converted, set the tick locations.\u001b[39;00m\n\u001b[0;32m   2422\u001b[0m \u001b[38;5;28;01mif\u001b[39;00m orientation \u001b[38;5;241m==\u001b[39m \u001b[38;5;124m'\u001b[39m\u001b[38;5;124mvertical\u001b[39m\u001b[38;5;124m'\u001b[39m:\n",
      "File \u001b[1;32m<__array_function__ internals>:180\u001b[0m, in \u001b[0;36mbroadcast_arrays\u001b[1;34m(*args, **kwargs)\u001b[0m\n",
      "File \u001b[1;32m~\\miniconda3\\lib\\site-packages\\numpy\\lib\\stride_tricks.py:540\u001b[0m, in \u001b[0;36mbroadcast_arrays\u001b[1;34m(subok, *args)\u001b[0m\n\u001b[0;32m    533\u001b[0m \u001b[38;5;66;03m# nditer is not used here to avoid the limit of 32 arrays.\u001b[39;00m\n\u001b[0;32m    534\u001b[0m \u001b[38;5;66;03m# Otherwise, something like the following one-liner would suffice:\u001b[39;00m\n\u001b[0;32m    535\u001b[0m \u001b[38;5;66;03m# return np.nditer(args, flags=['multi_index', 'zerosize_ok'],\u001b[39;00m\n\u001b[0;32m    536\u001b[0m \u001b[38;5;66;03m#                  order='C').itviews\u001b[39;00m\n\u001b[0;32m    538\u001b[0m args \u001b[38;5;241m=\u001b[39m [np\u001b[38;5;241m.\u001b[39marray(_m, copy\u001b[38;5;241m=\u001b[39m\u001b[38;5;28;01mFalse\u001b[39;00m, subok\u001b[38;5;241m=\u001b[39msubok) \u001b[38;5;28;01mfor\u001b[39;00m _m \u001b[38;5;129;01min\u001b[39;00m args]\n\u001b[1;32m--> 540\u001b[0m shape \u001b[38;5;241m=\u001b[39m \u001b[43m_broadcast_shape\u001b[49m\u001b[43m(\u001b[49m\u001b[38;5;241;43m*\u001b[39;49m\u001b[43margs\u001b[49m\u001b[43m)\u001b[49m\n\u001b[0;32m    542\u001b[0m \u001b[38;5;28;01mif\u001b[39;00m \u001b[38;5;28mall\u001b[39m(array\u001b[38;5;241m.\u001b[39mshape \u001b[38;5;241m==\u001b[39m shape \u001b[38;5;28;01mfor\u001b[39;00m array \u001b[38;5;129;01min\u001b[39;00m args):\n\u001b[0;32m    543\u001b[0m     \u001b[38;5;66;03m# Common case where nothing needs to be broadcasted.\u001b[39;00m\n\u001b[0;32m    544\u001b[0m     \u001b[38;5;28;01mreturn\u001b[39;00m args\n",
      "File \u001b[1;32m~\\miniconda3\\lib\\site-packages\\numpy\\lib\\stride_tricks.py:422\u001b[0m, in \u001b[0;36m_broadcast_shape\u001b[1;34m(*args)\u001b[0m\n\u001b[0;32m    417\u001b[0m \u001b[38;5;250m\u001b[39m\u001b[38;5;124;03m\"\"\"Returns the shape of the arrays that would result from broadcasting the\u001b[39;00m\n\u001b[0;32m    418\u001b[0m \u001b[38;5;124;03msupplied arrays against each other.\u001b[39;00m\n\u001b[0;32m    419\u001b[0m \u001b[38;5;124;03m\"\"\"\u001b[39;00m\n\u001b[0;32m    420\u001b[0m \u001b[38;5;66;03m# use the old-iterator because np.nditer does not handle size 0 arrays\u001b[39;00m\n\u001b[0;32m    421\u001b[0m \u001b[38;5;66;03m# consistently\u001b[39;00m\n\u001b[1;32m--> 422\u001b[0m b \u001b[38;5;241m=\u001b[39m \u001b[43mnp\u001b[49m\u001b[38;5;241;43m.\u001b[39;49m\u001b[43mbroadcast\u001b[49m\u001b[43m(\u001b[49m\u001b[38;5;241;43m*\u001b[39;49m\u001b[43margs\u001b[49m\u001b[43m[\u001b[49m\u001b[43m:\u001b[49m\u001b[38;5;241;43m32\u001b[39;49m\u001b[43m]\u001b[49m\u001b[43m)\u001b[49m\n\u001b[0;32m    423\u001b[0m \u001b[38;5;66;03m# unfortunately, it cannot handle 32 or more arguments directly\u001b[39;00m\n\u001b[0;32m    424\u001b[0m \u001b[38;5;28;01mfor\u001b[39;00m pos \u001b[38;5;129;01min\u001b[39;00m \u001b[38;5;28mrange\u001b[39m(\u001b[38;5;241m32\u001b[39m, \u001b[38;5;28mlen\u001b[39m(args), \u001b[38;5;241m31\u001b[39m):\n\u001b[0;32m    425\u001b[0m     \u001b[38;5;66;03m# ironically, np.broadcast does not properly handle np.broadcast\u001b[39;00m\n\u001b[0;32m    426\u001b[0m     \u001b[38;5;66;03m# objects (it treats them as scalars)\u001b[39;00m\n\u001b[0;32m    427\u001b[0m     \u001b[38;5;66;03m# use broadcasting to avoid allocating the full array\u001b[39;00m\n",
      "\u001b[1;31mValueError\u001b[0m: shape mismatch: objects cannot be broadcast to a single shape.  Mismatch is between arg 0 with shape (188,) and arg 1 with shape (187,)."
     ]
    },
    {
     "data": {
      "image/png": "[encoded data removed]",
      "text/plain": [
       "<Figure size 640x480 with 1 Axes>"
      ]
     },
     "metadata": {},
     "output_type": "display_data"
    }
   ],
   "source": [
    "import matplotlib.pyplot as plt\n",
    "\n",
    "\n",
    "# geting Brazil information\n",
    "brazil_daily = data[data['Country/Region'].str.contains('Brazil')]\n",
    "\n",
    "# storing the cases in a list\n",
    "cases_list_br = brazil_daily['Confirmed'].tolist()\n",
    "\n",
    "# subtracting the values to find only the daily infections\n",
    "cases_list_br = [y - x for x, y in zip(cases_list_br, cases_list_br[1:])]\n",
    "print(cases_list_br)\n",
    "# creating a bar graph\n",
    "plt.bar(brazil_daily['Date'], cases_list_br, color = 'grey')\n",
    "\n",
    "# labelling the axes\n",
    "plt.xlabel('Dates')\n",
    "plt.ylabel('N° of Cases')\n",
    "\n",
    "# graph title\n",
    "plt.title('Brazil Daily Infections Until July 2020')\n",
    "\n",
    "# showing the graph\n",
    "plt.show()"
   ]
  },
  {
   "cell_type": "code",
   "execution_count": null,
   "id": "31523742-ce70-4f9d-b8e4-a504208fc4d0",
   "metadata": {},
   "outputs": [],
   "source": []
  }
 ],
 "metadata": {
  "kernelspec": {
   "display_name": "Python 3 (ipykernel)",
   "language": "python",
   "name": "python3"
  },
  "language_info": {
   "codemirror_mode": {
    "name": "ipython",
    "version": 3
   },
   "file_extension": ".py",
   "mimetype": "text/x-python",
   "name": "python",
   "nbconvert_exporter": "python",
   "pygments_lexer": "ipython3",
   "version": "3.10.9"
  }
 },
 "nbformat": 4,
 "nbformat_minor": 5
}
